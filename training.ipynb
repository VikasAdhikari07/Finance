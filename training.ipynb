{
 "cells": [
  {
   "cell_type": "code",
   "execution_count": 27,
   "id": "c86f1720",
   "metadata": {},
   "outputs": [],
   "source": [
    "import pandas as pd\n",
    "from breeze_connect import BreezeConnect\n",
    "from datetime import datetime, date, time\n",
    "import warnings\n",
    "warnings.filterwarnings('ignore')"
   ]
  },
  {
   "cell_type": "code",
   "execution_count": 28,
   "id": "c5668cba",
   "metadata": {},
   "outputs": [],
   "source": [
    "api_key = \"23A00a51e45&G3!21F974C22q85a3u04\"\n",
    "apisecret = \"O14is53)4418158U83j9y1R38*xq159e\""
   ]
  },
  {
   "cell_type": "code",
   "execution_count": 29,
   "id": "a46eaf08",
   "metadata": {},
   "outputs": [
    {
     "name": "stdout",
     "output_type": "stream",
     "text": [
      "https://api.icicidirect.com/apiuser/login?api_key=23A00a51e45%26G3%2121F974C22q85a3u04\n"
     ]
    }
   ],
   "source": [
    "import urllib\n",
    "print(\"https://api.icicidirect.com/apiuser/login?api_key=\"+urllib.parse.quote_plus(api_key))"
   ]
  },
  {
   "cell_type": "code",
   "execution_count": 30,
   "id": "e17899b2",
   "metadata": {},
   "outputs": [],
   "source": [
    "breeze = BreezeConnect(api_key=api_key)\n",
    "# Put session_token for the day you get after login to API through browser\n",
    "breeze.generate_session(api_secret=apisecret,session_token=\"36627013\")"
   ]
  },
  {
   "cell_type": "code",
   "execution_count": 31,
   "id": "49fd5795",
   "metadata": {},
   "outputs": [],
   "source": [
    "data = breeze.get_historical_data(interval=\"1minute\",\n",
    "                            from_date= \"2024-03-07T07:00:00.000Z\",\n",
    "                            to_date= \"2024-03-07T07:00:00.000Z\",\n",
    "                            stock_code=\"NIFTY\",\n",
    "                            exchange_code=\"NSE\",\n",
    "                            product_type=\"cash\")"
   ]
  },
  {
   "cell_type": "code",
   "execution_count": 32,
   "id": "30184ea0",
   "metadata": {},
   "outputs": [],
   "source": [
    "df = pd.DataFrame(data['Success'])"
   ]
  },
  {
   "cell_type": "code",
   "execution_count": 33,
   "id": "de40846a",
   "metadata": {},
   "outputs": [],
   "source": [
    "df = df.drop(['exchange_code','product_type','expiry_date','right','strike_price','volume','open_interest'],axis=1)"
   ]
  },
  {
   "cell_type": "code",
   "execution_count": 34,
   "id": "be034f8c",
   "metadata": {},
   "outputs": [],
   "source": [
    "df.to_csv('nifty.csv')"
   ]
  },
  {
   "cell_type": "code",
   "execution_count": 36,
   "id": "d2d06c09",
   "metadata": {},
   "outputs": [
    {
     "data": {
      "text/html": [
       "<div>\n",
       "<style scoped>\n",
       "    .dataframe tbody tr th:only-of-type {\n",
       "        vertical-align: middle;\n",
       "    }\n",
       "\n",
       "    .dataframe tbody tr th {\n",
       "        vertical-align: top;\n",
       "    }\n",
       "\n",
       "    .dataframe thead th {\n",
       "        text-align: right;\n",
       "    }\n",
       "</style>\n",
       "<table border=\"1\" class=\"dataframe\">\n",
       "  <thead>\n",
       "    <tr style=\"text-align: right;\">\n",
       "      <th></th>\n",
       "      <th>datetime</th>\n",
       "      <th>stock_code</th>\n",
       "      <th>open</th>\n",
       "      <th>high</th>\n",
       "      <th>low</th>\n",
       "      <th>close</th>\n",
       "      <th>count</th>\n",
       "    </tr>\n",
       "  </thead>\n",
       "  <tbody>\n",
       "    <tr>\n",
       "      <th>0</th>\n",
       "      <td>2024-03-07 07:32:00</td>\n",
       "      <td>NIFTY</td>\n",
       "      <td>22474.05</td>\n",
       "      <td>22474.05</td>\n",
       "      <td>22474.05</td>\n",
       "      <td>22474.05</td>\n",
       "      <td>0</td>\n",
       "    </tr>\n",
       "    <tr>\n",
       "      <th>1</th>\n",
       "      <td>2024-03-07 07:32:00</td>\n",
       "      <td>NIFTY</td>\n",
       "      <td>22474.05</td>\n",
       "      <td>22474.05</td>\n",
       "      <td>22474.05</td>\n",
       "      <td>22474.05</td>\n",
       "      <td>1</td>\n",
       "    </tr>\n",
       "    <tr>\n",
       "      <th>2</th>\n",
       "      <td>2024-03-07 07:33:00</td>\n",
       "      <td>NIFTY</td>\n",
       "      <td>22474.05</td>\n",
       "      <td>22474.05</td>\n",
       "      <td>22474.05</td>\n",
       "      <td>22474.05</td>\n",
       "      <td>2</td>\n",
       "    </tr>\n",
       "    <tr>\n",
       "      <th>3</th>\n",
       "      <td>2024-03-07 07:33:00</td>\n",
       "      <td>NIFTY</td>\n",
       "      <td>22474.05</td>\n",
       "      <td>22474.05</td>\n",
       "      <td>22474.05</td>\n",
       "      <td>22474.05</td>\n",
       "      <td>3</td>\n",
       "    </tr>\n",
       "    <tr>\n",
       "      <th>4</th>\n",
       "      <td>2024-03-07 07:34:00</td>\n",
       "      <td>NIFTY</td>\n",
       "      <td>22474.05</td>\n",
       "      <td>22474.05</td>\n",
       "      <td>22474.05</td>\n",
       "      <td>22474.05</td>\n",
       "      <td>4</td>\n",
       "    </tr>\n",
       "    <tr>\n",
       "      <th>...</th>\n",
       "      <td>...</td>\n",
       "      <td>...</td>\n",
       "      <td>...</td>\n",
       "      <td>...</td>\n",
       "      <td>...</td>\n",
       "      <td>...</td>\n",
       "      <td>...</td>\n",
       "    </tr>\n",
       "    <tr>\n",
       "      <th>1112</th>\n",
       "      <td>2024-03-07 17:33:00</td>\n",
       "      <td>NIFTY</td>\n",
       "      <td>22493.55</td>\n",
       "      <td>22493.55</td>\n",
       "      <td>22493.55</td>\n",
       "      <td>22493.55</td>\n",
       "      <td>1112</td>\n",
       "    </tr>\n",
       "    <tr>\n",
       "      <th>1113</th>\n",
       "      <td>2024-03-07 17:34:00</td>\n",
       "      <td>NIFTY</td>\n",
       "      <td>22493.55</td>\n",
       "      <td>22493.55</td>\n",
       "      <td>22493.55</td>\n",
       "      <td>22493.55</td>\n",
       "      <td>1113</td>\n",
       "    </tr>\n",
       "    <tr>\n",
       "      <th>1114</th>\n",
       "      <td>2024-03-07 17:35:00</td>\n",
       "      <td>NIFTY</td>\n",
       "      <td>22493.55</td>\n",
       "      <td>22493.55</td>\n",
       "      <td>22493.55</td>\n",
       "      <td>22493.55</td>\n",
       "      <td>1114</td>\n",
       "    </tr>\n",
       "    <tr>\n",
       "      <th>1115</th>\n",
       "      <td>2024-03-07 17:36:00</td>\n",
       "      <td>NIFTY</td>\n",
       "      <td>22493.55</td>\n",
       "      <td>22493.55</td>\n",
       "      <td>22493.55</td>\n",
       "      <td>22493.55</td>\n",
       "      <td>1115</td>\n",
       "    </tr>\n",
       "    <tr>\n",
       "      <th>1116</th>\n",
       "      <td>2024-03-07 17:37:00</td>\n",
       "      <td>NIFTY</td>\n",
       "      <td>22493.55</td>\n",
       "      <td>22493.55</td>\n",
       "      <td>22493.55</td>\n",
       "      <td>22493.55</td>\n",
       "      <td>1116</td>\n",
       "    </tr>\n",
       "  </tbody>\n",
       "</table>\n",
       "<p>1117 rows × 7 columns</p>\n",
       "</div>"
      ],
      "text/plain": [
       "                 datetime stock_code      open      high       low     close  \\\n",
       "0     2024-03-07 07:32:00      NIFTY  22474.05  22474.05  22474.05  22474.05   \n",
       "1     2024-03-07 07:32:00      NIFTY  22474.05  22474.05  22474.05  22474.05   \n",
       "2     2024-03-07 07:33:00      NIFTY  22474.05  22474.05  22474.05  22474.05   \n",
       "3     2024-03-07 07:33:00      NIFTY  22474.05  22474.05  22474.05  22474.05   \n",
       "4     2024-03-07 07:34:00      NIFTY  22474.05  22474.05  22474.05  22474.05   \n",
       "...                   ...        ...       ...       ...       ...       ...   \n",
       "1112  2024-03-07 17:33:00      NIFTY  22493.55  22493.55  22493.55  22493.55   \n",
       "1113  2024-03-07 17:34:00      NIFTY  22493.55  22493.55  22493.55  22493.55   \n",
       "1114  2024-03-07 17:35:00      NIFTY  22493.55  22493.55  22493.55  22493.55   \n",
       "1115  2024-03-07 17:36:00      NIFTY  22493.55  22493.55  22493.55  22493.55   \n",
       "1116  2024-03-07 17:37:00      NIFTY  22493.55  22493.55  22493.55  22493.55   \n",
       "\n",
       "      count  \n",
       "0         0  \n",
       "1         1  \n",
       "2         2  \n",
       "3         3  \n",
       "4         4  \n",
       "...     ...  \n",
       "1112   1112  \n",
       "1113   1113  \n",
       "1114   1114  \n",
       "1115   1115  \n",
       "1116   1116  \n",
       "\n",
       "[1117 rows x 7 columns]"
      ]
     },
     "execution_count": 36,
     "metadata": {},
     "output_type": "execute_result"
    }
   ],
   "source": [
    "df"
   ]
  },
  {
   "cell_type": "code",
   "execution_count": 81,
   "id": "14667470",
   "metadata": {},
   "outputs": [],
   "source": [
    "# This function take opening_time and closing time as input and retuns the gain in one day\n",
    "def net_profit(df,opening_time, closeing_time):\n",
    "    \n",
    "    for i in range(df.shape[0]):\n",
    "        if(df['datetime'][i][11:]==opening_time):\n",
    "            opening_price=df.iloc[i]['open']\n",
    "        \n",
    "        if(df['datetime'][i][11:]==closeing_time):\n",
    "            closing_price=df.iloc[i]['close']\n",
    "    return float(opening_price)-float(closing_price)\n"
   ]
  },
  {
   "cell_type": "code",
   "execution_count": 83,
   "id": "a3379700",
   "metadata": {},
   "outputs": [
    {
     "name": "stdout",
     "output_type": "stream",
     "text": [
      "-32.650000000001455\n"
     ]
    }
   ],
   "source": [
    "print(net_profit(df,\"09:00:00\",\"15:00:00\"))"
   ]
  }
 ],
 "metadata": {
  "kernelspec": {
   "display_name": "Python 3 (ipykernel)",
   "language": "python",
   "name": "python3"
  },
  "language_info": {
   "codemirror_mode": {
    "name": "ipython",
    "version": 3
   },
   "file_extension": ".py",
   "mimetype": "text/x-python",
   "name": "python",
   "nbconvert_exporter": "python",
   "pygments_lexer": "ipython3",
   "version": "3.10.4"
  }
 },
 "nbformat": 4,
 "nbformat_minor": 5
}
